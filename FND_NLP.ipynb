{
  "nbformat": 4,
  "nbformat_minor": 0,
  "metadata": {
    "colab": {
      "provenance": [],
      "gpuType": "T4"
    },
    "kernelspec": {
      "name": "python3",
      "display_name": "Python 3"
    },
    "language_info": {
      "name": "python"
    },
    "accelerator": "GPU"
  },
  "cells": [
    {
      "cell_type": "code",
      "execution_count": null,
      "metadata": {
        "colab": {
          "base_uri": "https://localhost:8080/"
        },
        "id": "YtCD_YJN0NoF",
        "outputId": "b9a38632-a08d-4a27-de3e-62f159cb60dd"
      },
      "outputs": [
        {
          "output_type": "stream",
          "name": "stdout",
          "text": [
            "Mounted at /content/drive\n"
          ]
        },
        {
          "output_type": "stream",
          "name": "stderr",
          "text": [
            "[nltk_data] Downloading package punkt to /root/nltk_data...\n",
            "[nltk_data]   Unzipping tokenizers/punkt.zip.\n",
            "[nltk_data] Downloading package averaged_perceptron_tagger to\n",
            "[nltk_data]     /root/nltk_data...\n",
            "[nltk_data]   Unzipping taggers/averaged_perceptron_tagger.zip.\n"
          ]
        },
        {
          "output_type": "execute_result",
          "data": {
            "text/plain": [
              "True"
            ]
          },
          "metadata": {},
          "execution_count": 1
        }
      ],
      "source": [
        "from google.colab import drive\n",
        "import pandas as pd\n",
        "import numpy as np\n",
        "from sklearn.model_selection import train_test_split\n",
        "import nltk\n",
        "\n",
        "# Mount Google Drive to access datasets\n",
        "drive.mount('/content/drive')\n",
        "\n",
        "# Download NLTK data for POS tagging\n",
        "nltk.download('punkt')\n",
        "nltk.download('averaged_perceptron_tagger')"
      ]
    },
    {
      "cell_type": "code",
      "source": [
        "nltk.download('punkt_tab')\n",
        "nltk.download('averaged_perceptron_tagger_eng')"
      ],
      "metadata": {
        "colab": {
          "base_uri": "https://localhost:8080/"
        },
        "id": "fes5B1IU1qp7",
        "outputId": "a292d258-e8f9-477d-a166-e2579ba35064"
      },
      "execution_count": null,
      "outputs": [
        {
          "output_type": "stream",
          "name": "stderr",
          "text": [
            "[nltk_data] Downloading package punkt_tab to /root/nltk_data...\n",
            "[nltk_data]   Unzipping tokenizers/punkt_tab.zip.\n",
            "[nltk_data] Downloading package averaged_perceptron_tagger_eng to\n",
            "[nltk_data]     /root/nltk_data...\n",
            "[nltk_data]   Unzipping taggers/averaged_perceptron_tagger_eng.zip.\n"
          ]
        },
        {
          "output_type": "execute_result",
          "data": {
            "text/plain": [
              "True"
            ]
          },
          "metadata": {},
          "execution_count": 2
        }
      ]
    },
    {
      "cell_type": "code",
      "source": [
        "# Load the datasets\n",
        "true_df = pd.read_csv('/content/drive/My Drive/ISOT_Original/True.csv')\n",
        "fake_df = pd.read_csv('/content/drive/My Drive/ISOT_Original/Fake.csv')\n",
        "\n",
        "# Add labels: 1 for real news, 0 for fake news\n",
        "true_df['label'] = 1\n",
        "fake_df['label'] = 0\n",
        "\n",
        "# Combine both sampled datasets\n",
        "data = pd.concat([true_df, fake_df], ignore_index=True)\n",
        "\n",
        "# Shuffle the dataset\n",
        "data = data.sample(frac=1, random_state=42).reset_index(drop=True)\n",
        "\n",
        "# Split into train, validation, and test sets\n",
        "train_data, test_data = train_test_split(data, test_size=0.2, random_state=42)\n",
        "train_data, val_data = train_test_split(train_data, test_size=0.1, random_state=42)\n",
        "\n",
        "# Check the split sizes\n",
        "print(f\"Training set size: {train_data.shape}\")\n",
        "print(f\"Validation set size: {val_data.shape}\")\n",
        "print(f\"Test set size: {test_data.shape}\")\n"
      ],
      "metadata": {
        "colab": {
          "base_uri": "https://localhost:8080/"
        },
        "id": "oHhtQzy70Ud_",
        "outputId": "affe33aa-d79d-489a-cc15-f8e87a035867"
      },
      "execution_count": null,
      "outputs": [
        {
          "output_type": "stream",
          "name": "stdout",
          "text": [
            "Training set size: (32326, 5)\n",
            "Validation set size: (3592, 5)\n",
            "Test set size: (8980, 5)\n"
          ]
        }
      ]
    },
    {
      "cell_type": "code",
      "source": [
        "import re\n",
        "from nltk.corpus import stopwords\n",
        "from nltk.tokenize import word_tokenize\n",
        "\n",
        "\n",
        "nltk.download('stopwords')\n",
        "\n",
        "stop_words = set(stopwords.words('english'))\n",
        "\n",
        "def preprocess_text(text):\n",
        "    # Lowercasing\n",
        "    text = text.lower()\n",
        "\n",
        "    # Removing special characters and numbers\n",
        "    text = re.sub(r'[^a-zA-Z\\s]', '', text)\n",
        "\n",
        "    # Tokenization\n",
        "    tokens = word_tokenize(text)\n",
        "\n",
        "    # Stop word removal\n",
        "    tokens = [w for w in tokens if not w in stop_words]\n",
        "\n",
        "    return \" \".join(tokens)\n",
        "\n",
        "# Apply preprocessing to the 'text' column of each dataset\n",
        "train_data['text'] = train_data['text'].apply(preprocess_text)\n",
        "val_data['text'] = val_data['text'].apply(preprocess_text)\n",
        "test_data['text'] = test_data['text'].apply(preprocess_text)"
      ],
      "metadata": {
        "id": "03iKIfKAqm8r"
      },
      "execution_count": null,
      "outputs": []
    },
    {
      "cell_type": "code",
      "source": [
        "from sklearn.feature_extraction.text import TfidfVectorizer\n",
        "\n",
        "# TF-IDF Vectorizer for keyword extraction\n",
        "tfidf_vectorizer = TfidfVectorizer(max_features=5000, stop_words='english')\n",
        "\n",
        "# Fit on the training data and transform the datasets\n",
        "X_train_tfidf = tfidf_vectorizer.fit_transform(train_data['text'])\n",
        "X_val_tfidf = tfidf_vectorizer.transform(val_data['text'])\n",
        "X_test_tfidf = tfidf_vectorizer.transform(test_data['text'])\n"
      ],
      "metadata": {
        "id": "moiGKeeV0Xsh"
      },
      "execution_count": null,
      "outputs": []
    },
    {
      "cell_type": "code",
      "source": [
        "import nltk\n",
        "\n",
        "def extract_pos_features(text):\n",
        "    tokens = nltk.word_tokenize(text)\n",
        "    pos_tags = nltk.pos_tag(tokens)\n",
        "    nouns = sum(1 for word, tag in pos_tags if tag.startswith('NN'))\n",
        "    verbs = sum(1 for word, tag in pos_tags if tag.startswith('VB'))\n",
        "    adjectives = sum(1 for word, tag in pos_tags if tag.startswith('JJ'))\n",
        "    return [nouns, verbs, adjectives]\n",
        "\n",
        "# Apply POS extraction\n",
        "train_data['pos_features'] = train_data['text'].apply(extract_pos_features)\n",
        "val_data['pos_features'] = val_data['text'].apply(extract_pos_features)\n",
        "test_data['pos_features'] = test_data['text'].apply(extract_pos_features)\n"
      ],
      "metadata": {
        "id": "gPh1yceZ0cOg"
      },
      "execution_count": null,
      "outputs": []
    },
    {
      "cell_type": "code",
      "source": [
        "import spacy\n",
        "\n",
        "# Load SpaCy model for NER extraction\n",
        "nlp = spacy.load('en_core_web_sm')\n",
        "\n",
        "def extract_ner_count(text):\n",
        "    doc = nlp(text)\n",
        "    return len(doc.ents)\n",
        "\n",
        "# Apply NER extraction\n",
        "train_data['ner_count'] = train_data['text'].apply(extract_ner_count)\n",
        "val_data['ner_count'] = val_data['text'].apply(extract_ner_count)\n",
        "test_data['ner_count'] = test_data['text'].apply(extract_ner_count)\n"
      ],
      "metadata": {
        "id": "f9OKCn7e0g4M"
      },
      "execution_count": null,
      "outputs": []
    },
    {
      "cell_type": "code",
      "source": [
        "from textblob import TextBlob\n",
        "\n",
        "def extract_sentiment(text):\n",
        "    sentiment = TextBlob(text).sentiment.polarity\n",
        "    return sentiment\n",
        "\n",
        "# Apply Sentiment Analysis\n",
        "train_data['sentiment'] = train_data['text'].apply(extract_sentiment)\n",
        "val_data['sentiment'] = val_data['text'].apply(extract_sentiment)\n",
        "test_data['sentiment'] = test_data['text'].apply(extract_sentiment)\n"
      ],
      "metadata": {
        "id": "47qwrv9P0e83"
      },
      "execution_count": null,
      "outputs": []
    },
    {
      "cell_type": "code",
      "source": [
        "# Combine all features (TF-IDF, POS, NER, Sentiment) for training\n",
        "X_train_combined = np.hstack([\n",
        "    X_train_tfidf.toarray(),\n",
        "    np.array(train_data['pos_features'].tolist()),\n",
        "    np.array(train_data['ner_count']).reshape(-1, 1),\n",
        "    np.array(train_data['sentiment']).reshape(-1, 1)\n",
        "])\n",
        "\n",
        "X_val_combined = np.hstack([\n",
        "    X_val_tfidf.toarray(),\n",
        "    np.array(val_data['pos_features'].tolist()),\n",
        "    np.array(val_data['ner_count']).reshape(-1, 1),\n",
        "    np.array(val_data['sentiment']).reshape(-1, 1)\n",
        "])\n",
        "\n",
        "X_test_combined = np.hstack([\n",
        "    X_test_tfidf.toarray(),\n",
        "    np.array(test_data['pos_features'].tolist()),\n",
        "    np.array(test_data['ner_count']).reshape(-1, 1),\n",
        "    np.array(test_data['sentiment']).reshape(-1, 1)\n",
        "])\n",
        "\n",
        "# Labels\n",
        "y_train = train_data['label']\n",
        "y_val = val_data['label']\n",
        "y_test = test_data['label']\n"
      ],
      "metadata": {
        "id": "-wFOqe5k0fcb"
      },
      "execution_count": null,
      "outputs": []
    },
    {
      "cell_type": "code",
      "source": [
        "from sklearn.linear_model import LogisticRegression\n",
        "from sklearn.metrics import classification_report\n",
        "\n",
        "# Train Logistic Regression model\n",
        "model = LogisticRegression(max_iter=1000)\n",
        "model.fit(X_train_combined, y_train)\n",
        "\n",
        "# Validation prediction and performance\n",
        "y_val_pred = model.predict(X_val_combined)\n",
        "print(\"Validation Classification Report:\")\n",
        "print(classification_report(y_val, y_val_pred))\n",
        "\n",
        "# Test prediction and performance\n",
        "y_test_pred = model.predict(X_test_combined)\n",
        "print(\"Test Classification Report:\")\n",
        "print(classification_report(y_test, y_test_pred))\n"
      ],
      "metadata": {
        "colab": {
          "base_uri": "https://localhost:8080/"
        },
        "id": "4EDUWTRS0f7i",
        "outputId": "fa19764f-ef42-4f6d-bc07-95a9c5636dd6"
      },
      "execution_count": null,
      "outputs": [
        {
          "output_type": "stream",
          "name": "stdout",
          "text": [
            "Validation Classification Report:\n",
            "              precision    recall  f1-score   support\n",
            "\n",
            "           0       0.98      0.98      0.98      1853\n",
            "           1       0.98      0.98      0.98      1739\n",
            "\n",
            "    accuracy                           0.98      3592\n",
            "   macro avg       0.98      0.98      0.98      3592\n",
            "weighted avg       0.98      0.98      0.98      3592\n",
            "\n",
            "Test Classification Report:\n",
            "              precision    recall  f1-score   support\n",
            "\n",
            "           0       0.99      0.98      0.99      4669\n",
            "           1       0.98      0.99      0.99      4311\n",
            "\n",
            "    accuracy                           0.99      8980\n",
            "   macro avg       0.99      0.99      0.99      8980\n",
            "weighted avg       0.99      0.99      0.99      8980\n",
            "\n"
          ]
        }
      ]
    },
    {
      "cell_type": "code",
      "source": [
        "import matplotlib.pyplot as plt\n",
        "import seaborn as sns\n",
        "from sklearn.metrics import confusion_matrix\n",
        "\n",
        "# Generate the confusion matrix\n",
        "cm = confusion_matrix(y_test, y_test_pred)\n",
        "\n",
        "# Create the heatmap\n",
        "plt.figure(figsize=(8, 6))\n",
        "sns.heatmap(cm, annot=True, fmt=\"d\", cmap=\"Blues\",\n",
        "            xticklabels=['Fake', 'Real'], yticklabels=['Fake', 'Real'])\n",
        "plt.xlabel('Predicted')\n",
        "plt.ylabel('Actual')\n",
        "plt.title('Confusion Matrix - Test Data')\n",
        "plt.show()"
      ],
      "metadata": {
        "colab": {
          "base_uri": "https://localhost:8080/",
          "height": 564
        },
        "id": "4oFKFM5bCEZR",
        "outputId": "0bce0fe4-be68-4b69-a765-24ceaabc227a"
      },
      "execution_count": null,
      "outputs": [
        {
          "output_type": "display_data",
          "data": {
            "text/plain": [
              "<Figure size 800x600 with 2 Axes>"
            ],
            "image/png": "[encoded data removed]"
          },
          "metadata": {}
        }
      ]
    },
    {
      "cell_type": "code",
      "source": [
        "import joblib\n",
        "\n",
        "# Save the trained model and vectorizer\n",
        "joblib.dump(model, '/content/drive/My Drive/fake_news_model.pkl')\n",
        "joblib.dump(tfidf_vectorizer, '/content/drive/My Drive/tfidf_vectorizer.pkl')\n",
        "\n",
        "# Save the extracted features (if needed)\n",
        "train_data.to_csv('/content/drive/My Drive/train_data_with_features.csv', index=False)\n",
        "val_data.to_csv('/content/drive/My Drive/val_data_with_features.csv', index=False)\n",
        "test_data.to_csv('/content/drive/My Drive/test_data_with_features.csv', index=False)\n"
      ],
      "metadata": {
        "id": "WdUA9Cv50gGw"
      },
      "execution_count": null,
      "outputs": []
    },
    {
      "cell_type": "code",
      "source": [
        "# Load saved model and vectorizer\n",
        "model = joblib.load('/content/drive/My Drive/fake_news_model.pkl')\n",
        "tfidf_vectorizer = joblib.load('/content/drive/My Drive/tfidf_vectorizer.pkl')\n",
        "\n",
        "# Sample input for prediction\n",
        "sample_input = [\"Breaking news: Scientists find cure for cancer.\"]\n",
        "\n",
        "# Preprocess the input\n",
        "sample_tfidf = tfidf_vectorizer.transform(sample_input)\n",
        "\n",
        "# For POS, NER, and Sentiment features\n",
        "sample_pos = extract_pos_features(sample_input[0])\n",
        "sample_ner = extract_ner_count(sample_input[0])\n",
        "sample_sentiment = extract_sentiment(sample_input[0])\n",
        "\n",
        "# Combine all features for the sample input\n",
        "sample_combined = np.hstack([\n",
        "    sample_tfidf.toarray(),\n",
        "    np.array([sample_pos]),\n",
        "    np.array([[sample_ner]]),\n",
        "    np.array([[sample_sentiment]])\n",
        "])\n",
        "\n",
        "# Predict using the model\n",
        "prediction = model.predict(sample_combined)\n",
        "print(\"Prediction:\", \"Real News\" if prediction[0] == 1 else \"Fake News\")\n"
      ],
      "metadata": {
        "colab": {
          "base_uri": "https://localhost:8080/"
        },
        "id": "voM86rW00gNc",
        "outputId": "642edfcc-5985-46c5-b434-959d563acd3e"
      },
      "execution_count": null,
      "outputs": [
        {
          "output_type": "stream",
          "name": "stdout",
          "text": [
            "Prediction: Fake News\n"
          ]
        }
      ]
    },
    {
      "cell_type": "code",
      "source": [
        "print(train_data[['pos_features', 'ner_count', 'sentiment']].head())\n",
        "print(val_data[['pos_features', 'ner_count', 'sentiment']].head())\n",
        "print(test_data[['pos_features', 'ner_count', 'sentiment']].head())"
      ],
      "metadata": {
        "colab": {
          "base_uri": "https://localhost:8080/"
        },
        "id": "W5KKAK355czc",
        "outputId": "1a596904-de2c-404a-e93e-690d6e39b489"
      },
      "execution_count": null,
      "outputs": [
        {
          "output_type": "stream",
          "name": "stdout",
          "text": [
            "         pos_features  ner_count  sentiment\n",
            "26654     [29, 11, 6]          7   0.158636\n",
            "35552  [392, 167, 92]        145  -0.004779\n",
            "20522   [199, 88, 50]         66   0.063891\n",
            "28874   [102, 38, 24]         37   0.130974\n",
            "3406   [355, 214, 78]        104   0.119159\n",
            "         pos_features  ner_count  sentiment\n",
            "4126    [108, 46, 27]         35   0.107184\n",
            "5110     [79, 50, 17]         26   0.014006\n",
            "16867     [30, 28, 8]         15  -0.016880\n",
            "12221  [229, 107, 46]         83   0.015541\n",
            "27688  [226, 125, 38]         35   0.020734\n",
            "        pos_features  ner_count  sentiment\n",
            "22216    [44, 16, 7]         13  -0.085937\n",
            "27917   [99, 86, 26]         22   0.110351\n",
            "25007   [49, 34, 17]         11   0.125764\n",
            "1377     [31, 12, 5]         13   0.125000\n",
            "32476  [107, 74, 30]         28   0.066049\n"
          ]
        }
      ]
    },
    {
      "cell_type": "code",
      "source": [
        "import numpy as np\n",
        "import joblib\n",
        "from sklearn.feature_extraction.text import TfidfVectorizer\n",
        "import nltk\n",
        "import spacy\n",
        "from textblob import TextBlob\n",
        "\n",
        "model = joblib.load('/content/drive/My Drive/fake_news_model.pkl')\n",
        "tfidf_vectorizer = joblib.load('/content/drive/My Drive/tfidf_vectorizer.pkl')\n",
        "\n",
        "\n",
        "\n",
        "def extract_pos_features(text):\n",
        "    tokens = nltk.word_tokenize(text)\n",
        "    pos_tags = nltk.pos_tag(tokens)\n",
        "    nouns = sum(1 for word, tag in pos_tags if tag.startswith('NN'))\n",
        "    verbs = sum(1 for word, tag in pos_tags if tag.startswith('VB'))\n",
        "    adjectives = sum(1 for word, tag in pos_tags if tag.startswith('JJ'))\n",
        "    return [nouns, verbs, adjectives]\n",
        "\n",
        "def extract_ner_count(text):\n",
        "    doc = nlp(text)\n",
        "    return len(doc.ents)\n",
        "\n",
        "def extract_sentiment(text):\n",
        "    sentiment = TextBlob(text).sentiment.polarity\n",
        "    return sentiment\n",
        "\n",
        "def predict_news(input_texts):\n",
        "  predictions = []\n",
        "  for text in input_texts:\n",
        "    sample_tfidf = tfidf_vectorizer.transform([text])\n",
        "    sample_pos = extract_pos_features(text)\n",
        "    sample_ner = extract_ner_count(text)\n",
        "    sample_sentiment = extract_sentiment(text)\n",
        "    sample_combined = np.hstack([\n",
        "        sample_tfidf.toarray(),\n",
        "        np.array([sample_pos]),\n",
        "        np.array([[sample_ner]]),\n",
        "        np.array([[sample_sentiment]])\n",
        "    ])\n",
        "    prediction = model.predict(sample_combined)\n",
        "    predictions.append(\"Real News\" if prediction[0] == 1 else \"Fake News\")\n",
        "  return predictions\n",
        "\n",
        "# Example usage with 10 inputs\n",
        "sample_inputs = [\n",
        "    \"Breaking news: Scientists find cure for cancer.\",\n",
        "    \"The president announced a new policy today.\",\n",
        "    \"Aliens have landed in New York City!\",\n",
        "    \"Stock market crashes after unexpected economic downturn.\",\n",
        "    \"Local bakery wins national award for its delicious pastries.\",\n",
        "    \"Celebrity couple announces their engagement.\",\n",
        "    \"Mysterious object spotted in the sky over Area 51.\",\n",
        "    \"New study reveals surprising findings about climate change.\",\n",
        "    \"World leaders gather for international summit on peace.\",\n",
        "    \"Tech giant releases its latest innovative product.\"\n",
        "]\n",
        "\n",
        "predictions = predict_news(sample_inputs)\n",
        "for i, prediction in enumerate(predictions):\n",
        "  print(f\"Input {i+1}: {sample_inputs[i]} \\nPrediction: {prediction}\\n\")"
      ],
      "metadata": {
        "colab": {
          "base_uri": "https://localhost:8080/"
        },
        "id": "iNZ482vO5kCD",
        "outputId": "6a04b2bd-4057-4d9d-a704-c7003beabea4"
      },
      "execution_count": null,
      "outputs": [
        {
          "output_type": "stream",
          "name": "stdout",
          "text": [
            "Input 1: Breaking news: Scientists find cure for cancer. \n",
            "Prediction: Fake News\n",
            "\n",
            "Input 2: The president announced a new policy today. \n",
            "Prediction: Fake News\n",
            "\n",
            "Input 3: Aliens have landed in New York City! \n",
            "Prediction: Fake News\n",
            "\n",
            "Input 4: Stock market crashes after unexpected economic downturn. \n",
            "Prediction: Fake News\n",
            "\n",
            "Input 5: Local bakery wins national award for its delicious pastries. \n",
            "Prediction: Fake News\n",
            "\n",
            "Input 6: Celebrity couple announces their engagement. \n",
            "Prediction: Fake News\n",
            "\n",
            "Input 7: Mysterious object spotted in the sky over Area 51. \n",
            "Prediction: Fake News\n",
            "\n",
            "Input 8: New study reveals surprising findings about climate change. \n",
            "Prediction: Fake News\n",
            "\n",
            "Input 9: World leaders gather for international summit on peace. \n",
            "Prediction: Fake News\n",
            "\n",
            "Input 10: Tech giant releases its latest innovative product. \n",
            "Prediction: Fake News\n",
            "\n"
          ]
        }
      ]
    },
    {
      "cell_type": "code",
      "source": [
        "true_news_samples = true_df['text'].sample(n=10).tolist()\n",
        "\n",
        "predictions = predict_news(true_news_samples)\n",
        "for i, prediction in enumerate(predictions):\n",
        "  print(f\"Input {i+1}: {true_news_samples[i][:100]}... \\nPrediction: {prediction}\\n\")\n",
        "\n",
        "\n",
        "fake_news_samples = fake_df['text'].sample(n=10).tolist()\n",
        "\n",
        "predictions = predict_news(fake_news_samples)\n",
        "for i, prediction in enumerate(predictions):\n",
        "    print(f\"Input {i+1}: {fake_news_samples[i][:100]}... \\nPrediction: {prediction}\\n\")"
      ],
      "metadata": {
        "colab": {
          "base_uri": "https://localhost:8080/"
        },
        "id": "xSEXRCGN6RSL",
        "outputId": "ebe45dab-ca79-43a5-a80f-f704d17f2d74"
      },
      "execution_count": null,
      "outputs": [
        {
          "output_type": "stream",
          "name": "stdout",
          "text": [
            "Input 1: NEW YORK (Reuters) - Sweeping U.S. tax legislation appears to be on the verge of approval, lifting t... \n",
            "Prediction: Real News\n",
            "\n",
            "Input 2: SEATTLE (Reuters) - Republican U.S. President Donald Trump’s efforts to renegotiate or scrap longsta... \n",
            "Prediction: Real News\n",
            "\n",
            "Input 3: WARSAW (Reuters) - Changes to Poland s electoral code approved by parliament on Thursday threaten th... \n",
            "Prediction: Real News\n",
            "\n",
            "Input 4: MOGADISHU (Reuters) - The United States military has carried out an air strike in Somalia against al... \n",
            "Prediction: Real News\n",
            "\n",
            "Input 5: BERLIN (Reuters) - U.S. President Barack Obama and European leaders on Friday underscored the import... \n",
            "Prediction: Real News\n",
            "\n",
            "Input 6: WASHINGTON (Reuters) - U.S. Senate Republican leader Mitch McConnell on Tuesday announced a delay in... \n",
            "Prediction: Real News\n",
            "\n",
            "Input 7: WELLINGTON (Reuters) - The final opinion poll before New Zealand s election on Saturday showed the r... \n",
            "Prediction: Real News\n",
            "\n",
            "Input 8: BERLIN (Reuters) - Chancellor Angela Merkel on Friday said Germany should react decisively to Ankara... \n",
            "Prediction: Real News\n",
            "\n",
            "Input 9: BEIJING (Reuters) -  Good preparations  should be made by China and the United States to ensure that... \n",
            "Prediction: Real News\n",
            "\n",
            "Input 10: POCHEON, South Korea (Reuters) - The screech of incoming fire followed by an explosion resounds acro... \n",
            "Prediction: Real News\n",
            "\n",
            "Input 1: Presidential candidate and front-runner Donald J. Trump gave a campaign rally at the Oklahoma State ... \n",
            "Prediction: Fake News\n",
            "\n",
            "Input 2: Wow! Conservative Ann Coulter was in fact targeted by Delta employees who wanted to make the popular... \n",
            "Prediction: Fake News\n",
            "\n",
            "Input 3: Swedish resident, Rosa Vidarsdottir tells a harrowing story on Facebook of out-of-control, animal-li... \n",
            "Prediction: Fake News\n",
            "\n",
            "Input 4: 21st Century Wire says Is Donald Trump the answer? Is anyone the answer?Here s an interesting conver... \n",
            "Prediction: Fake News\n",
            "\n",
            "Input 5: Native New Yorker and Republican front runner Donald Trump made his first-ever visit to the 9/11 Mem... \n",
            "Prediction: Fake News\n",
            "\n",
            "Input 6: Assimilate or go hungry  Human rights lawyers descend in 5 4 3 2 1 COPENHAGEN, Denmark   A Danish ci... \n",
            "Prediction: Fake News\n",
            "\n",
            "Input 7: Meanwhile, in virtually every media outlet across America, Trump Trump Trump and Russia Russia Russi... \n",
            "Prediction: Fake News\n",
            "\n",
            "Input 8: Everyone s been asking where the Hillary van is So Hillary pulls up in a gas guzzling van with tinte... \n",
            "Prediction: Fake News\n",
            "\n",
            "Input 9: The same conservatives who have attacked President Obama over the last eight years really liked his ... \n",
            "Prediction: Fake News\n",
            "\n",
            "Input 10: Tuesday at the White House, several people are set to receive the prestigious Medal of Freedom from ... \n",
            "Prediction: Fake News\n",
            "\n"
          ]
        }
      ]
    },
    {
      "cell_type": "code",
      "source": [
        "import joblib\n",
        "import nltk\n",
        "import numpy as np\n",
        "import spacy\n",
        "from textblob import TextBlob\n",
        "\n",
        "# Download necessary NLTK data (if not already downloaded)\n",
        "nltk.download('punkt')\n",
        "nltk.download('averaged_perceptron_tagger')\n",
        "\n",
        "# Load the spaCy model\n",
        "nlp = spacy.load('en_core_web_sm')\n",
        "\n",
        "# Load the saved model and vectorizer\n",
        "model = joblib.load('/content/drive/My Drive/fake_news_model.pkl')\n",
        "tfidf_vectorizer = joblib.load('/content/drive/My Drive/tfidf_vectorizer.pkl')\n",
        "\n",
        "def extract_pos_features(text):\n",
        "    tokens = nltk.word_tokenize(text)\n",
        "    pos_tags = nltk.pos_tag(tokens)\n",
        "    nouns = sum(1 for word, tag in pos_tags if tag.startswith('NN'))\n",
        "    verbs = sum(1 for word, tag in pos_tags if tag.startswith('VB'))\n",
        "    adjectives = sum(1 for word, tag in pos_tags if tag.startswith('JJ'))\n",
        "    return [nouns, verbs, adjectives]\n",
        "\n",
        "def extract_ner_count(text):\n",
        "    doc = nlp(text)\n",
        "    return len(doc.ents)\n",
        "\n",
        "def extract_sentiment(text):\n",
        "    sentiment = TextBlob(text).sentiment.polarity\n",
        "    return sentiment\n",
        "\n",
        "def predict_news(input_texts):\n",
        "  predictions = []\n",
        "  for text in input_texts:\n",
        "    sample_tfidf = tfidf_vectorizer.transform([text])\n",
        "    sample_pos = extract_pos_features(text)\n",
        "    sample_ner = extract_ner_count(text)\n",
        "    sample_sentiment = extract_sentiment(text)\n",
        "    sample_combined = np.hstack([\n",
        "        sample_tfidf.toarray(),\n",
        "        np.array([sample_pos]),\n",
        "        np.array([[sample_ner]]),\n",
        "        np.array([[sample_sentiment]])\n",
        "    ])\n",
        "    prediction = model.predict(sample_combined)\n",
        "    predictions.append(\"Real News\" if prediction[0] == 1 else \"Fake News\")\n",
        "  return predictions"
      ],
      "metadata": {
        "colab": {
          "base_uri": "https://localhost:8080/"
        },
        "id": "zoDp_nutBZps",
        "outputId": "65fb8a41-321d-4554-e712-7d37590956f8"
      },
      "execution_count": null,
      "outputs": [
        {
          "output_type": "stream",
          "name": "stderr",
          "text": [
            "[nltk_data] Downloading package punkt to /root/nltk_data...\n",
            "[nltk_data]   Package punkt is already up-to-date!\n",
            "[nltk_data] Downloading package averaged_perceptron_tagger to\n",
            "[nltk_data]     /root/nltk_data...\n",
            "[nltk_data]   Package averaged_perceptron_tagger is already up-to-\n",
            "[nltk_data]       date!\n"
          ]
        }
      ]
    },
    {
      "cell_type": "code",
      "source": [
        "import random\n",
        "import pandas as pd # Import pandas\n",
        "\n",
        "# Load the datasets (This needs to be done in this cell)\n",
        "true_df = pd.read_csv('/content/drive/My Drive/ISOT/True.csv')\n",
        "fake_df = pd.read_csv('/content/drive/My Drive/ISOT/Fake.csv')\n",
        "\n",
        "# Randomly select 5 true and 5 fake news articles\n",
        "true_indices = random.sample(range(len(true_df)), 5)\n",
        "fake_indices = random.sample(range(len(fake_df)), 5)\n",
        "\n",
        "true_news_samples = [true_df['text'].iloc[i] for i in true_indices]\n",
        "fake_news_samples = [fake_df['text'].iloc[i] for i in fake_indices]\n",
        "\n",
        "# Combine true and fake samples\n",
        "combined_samples = true_news_samples + fake_news_samples\n",
        "true_labels = [1] * 5 + [0] * 5 # Corresponding true labels\n",
        "\n",
        "predictions = predict_news(combined_samples)\n",
        "\n",
        "# Evaluate predictions\n",
        "correct_predictions = 0\n",
        "for i in range(10):\n",
        "    predicted_label = 1 if predictions[i] == \"Real News\" else 0\n",
        "    if predicted_label == true_labels[i]:\n",
        "        correct_predictions += 1\n",
        "    print(f\"Input {i + 1}: {combined_samples[i][:100]}... \\nPrediction: {predictions[i]}, Actual: {'Real News' if true_labels[i] == 1 else 'Fake News'}\\n\")\n",
        "\n",
        "print(f\"Accuracy: {correct_predictions / 10}\")"
      ],
      "metadata": {
        "colab": {
          "base_uri": "https://localhost:8080/"
        },
        "id": "GjDjm5zDDuNE",
        "outputId": "4c27c397-031d-423a-f9ab-f638a4976d3d"
      },
      "execution_count": null,
      "outputs": [
        {
          "output_type": "stream",
          "name": "stdout",
          "text": [
            "Input 1: PHILADELPHIA (Reuters) - Democrat Hillary Clinton on Monday accused Republican Donald Trump of aidin... \n",
            "Prediction: Real News, Actual: Real News\n",
            "\n",
            "Input 2: WASHINGTON (Reuters) - The top Republican in the U.S. Congress dimmed hopes that lawmakers might end... \n",
            "Prediction: Real News, Actual: Real News\n",
            "\n",
            "Input 3: BOSTON (Reuters) - Massachusetts Governor Charlie Baker proposed a bill on Tuesday to allow police a... \n",
            "Prediction: Real News, Actual: Real News\n",
            "\n",
            "Input 4: (Reuters) - Democratic presidential candidate Hillary Clinton has pledged to raise taxes on the weal... \n",
            "Prediction: Real News, Actual: Real News\n",
            "\n",
            "Input 5: (Reuters) - U.S. President Donald Trump does not plan to invoke executive privilege as a way to bloc... \n",
            "Prediction: Real News, Actual: Real News\n",
            "\n",
            "Input 6: Democrat Delegate Mary Bayer was caught on undercover video explaining how Hillary will deceptively ... \n",
            "Prediction: Fake News, Actual: Fake News\n",
            "\n",
            "Input 7: No Obama won t run again, but he ll use every dirty political Chicago-style trick available to him t... \n",
            "Prediction: Fake News, Actual: Fake News\n",
            "\n",
            "Input 8: Tonight, Tucker Carlson took on Yvette Felarca, a national organizer for By Any Means Necessary, a m... \n",
            "Prediction: Fake News, Actual: Fake News\n",
            "\n",
            "Input 9: The National Archives inspector general investigated the theft. Later emails released by the State D... \n",
            "Prediction: Fake News, Actual: Fake News\n",
            "\n",
            "Input 10: Longtime friend and Clinton advisor Diane Blair released Hillary s uncensored remarks about the 22 y... \n",
            "Prediction: Fake News, Actual: Fake News\n",
            "\n",
            "Accuracy: 1.0\n"
          ]
        }
      ]
    },
    {
      "cell_type": "code",
      "source": [
        "import random\n",
        "\n",
        "# Randomly select 5 true and 5 fake news articles\n",
        "true_indices = random.sample(range(len(true_df)), 5)\n",
        "fake_indices = random.sample(range(len(fake_df)), 5)\n",
        "\n",
        "true_news_samples = [true_df['text'].iloc[i] for i in true_indices]\n",
        "fake_news_samples = [fake_df['text'].iloc[i] for i in fake_indices]\n",
        "\n",
        "# Combine true and fake samples\n",
        "combined_samples = true_news_samples + fake_news_samples\n",
        "true_labels = [1] * 5 + [0] * 5 # Corresponding true labels\n",
        "\n",
        "predictions = predict_news(combined_samples)\n",
        "\n",
        "# Evaluate predictions\n",
        "correct_predictions = 0\n",
        "for i in range(10):\n",
        "    predicted_label = 1 if predictions[i] == \"Real News\" else 0\n",
        "    if predicted_label == true_labels[i]:\n",
        "        correct_predictions += 1\n",
        "    print(f\"Input {i + 1}: {combined_samples[i][:100]}... \\nPrediction: {predictions[i]}, Actual: {'Real News' if true_labels[i] == 1 else 'Fake News'}\\n\")\n",
        "\n",
        "print(f\"Accuracy: {correct_predictions / 10}\")"
      ],
      "metadata": {
        "id": "_ksAq3Mq61qo",
        "colab": {
          "base_uri": "https://localhost:8080/"
        },
        "outputId": "9627270d-5cf1-454f-bd1e-7957a5e4326b"
      },
      "execution_count": null,
      "outputs": [
        {
          "output_type": "stream",
          "name": "stdout",
          "text": [
            "Input 1: MOSCOW (Reuters) - Russia does not believe that U.S. President Donald Trump’s new strategy on Afghan... \n",
            "Prediction: Real News, Actual: Real News\n",
            "\n",
            "Input 2: WASHINGTON (Reuters) - U.S. President Donald Trump supports the goal of peace between Israel and the... \n",
            "Prediction: Real News, Actual: Real News\n",
            "\n",
            "Input 3: WASHINGTON (Reuters) - President Barack Obama commuted the prison sentences of 330 federal inmates, ... \n",
            "Prediction: Real News, Actual: Real News\n",
            "\n",
            "Input 4: WASHINGTON (Reuters) - U.S. Secretary of State Rex Tillerson said on Tuesday a policy of engagement ... \n",
            "Prediction: Real News, Actual: Real News\n",
            "\n",
            "Input 5: DETROIT (Reuters) - When U.S. President Donald Trump announced a review last week of tough Obama-era... \n",
            "Prediction: Real News, Actual: Real News\n",
            "\n",
            "Input 6: This is rich! Left-leaning Washington Post does a hit job on Hillary: JUST THE FACTS ARE PROVIDED EX... \n",
            "Prediction: Fake News, Actual: Fake News\n",
            "\n",
            "Input 7: Will anyone on the left even care? If she were in prison, they d still vote for her. Obama in a dres... \n",
            "Prediction: Fake News, Actual: Fake News\n",
            "\n",
            "Input 8: Our most pressing issue is border control and terrorism. If you ve been paying attention to the bord... \n",
            "Prediction: Fake News, Actual: Fake News\n",
            "\n",
            "Input 9: This is a very interesting article and worth taking the time to read all the way through The Islamic... \n",
            "Prediction: Fake News, Actual: Fake News\n",
            "\n",
            "Input 10: This ad is fantastic and really nails the failure of leadership from Obama and Clinton: ... \n",
            "Prediction: Fake News, Actual: Fake News\n",
            "\n",
            "Accuracy: 1.0\n"
          ]
        }
      ]
    },
    {
      "cell_type": "code",
      "source": [
        "\n",
        "# Randomly select 5 true and 5 fake news articles\n",
        "true_indices = random.sample(range(len(true_df)), 5)\n",
        "fake_indices = random.sample(range(len(fake_df)), 5)\n",
        "\n",
        "true_news_samples = [true_df['text'].iloc[i] for i in true_indices]\n",
        "fake_news_samples = [fake_df['text'].iloc[i] for i in fake_indices]\n",
        "\n",
        "# Combine true and fake samples\n",
        "combined_samples = true_news_samples + fake_news_samples\n",
        "true_labels = [1] * 5 + [0] * 5  # Corresponding true labels\n",
        "\n",
        "predictions = predict_news(combined_samples)\n",
        "\n",
        "# Evaluate predictions\n",
        "correct_predictions = 0\n",
        "for i in range(10):\n",
        "    predicted_label = 1 if predictions[i] == \"Real News\" else 0\n",
        "    if predicted_label == true_labels[i]:\n",
        "        correct_predictions += 1\n",
        "    print(\n",
        "        f\"Input {i + 1}: {combined_samples[i][:100]}... \\nPrediction: {predictions[i]}, Actual:\"\n",
        "        f\" {'Real News' if true_labels[i] == 1 else 'Fake News'}\\n\"\n",
        "    )\n",
        "\n",
        "print(f\"Accuracy: {correct_predictions / 10}\")"
      ],
      "metadata": {
        "colab": {
          "base_uri": "https://localhost:8080/"
        },
        "id": "F3ilKkDlO2Te",
        "outputId": "2d9db1e8-59dc-4534-b3b4-e696ea1f0e56"
      },
      "execution_count": null,
      "outputs": [
        {
          "output_type": "stream",
          "name": "stdout",
          "text": [
            "Input 1: BEIJING/TAIPEI (Reuters) - China warned on Wednesday that any interference with or damage to the “on... \n",
            "Prediction: Real News, Actual: Real News\n",
            "\n",
            "Input 2: (Reuters) - U.S. President-elect Donald Trump held meetings in New York on Monday as he worked to fi... \n",
            "Prediction: Real News, Actual: Real News\n",
            "\n",
            "Input 3: WASHINGTON (Reuters) - President Donald J. Trump nominated Brian Quintenz, a former fund manager, co... \n",
            "Prediction: Real News, Actual: Real News\n",
            "\n",
            "Input 4: WASHINGTON (Reuters) - The leaders of a House of Representatives probe of possible Russian meddling ... \n",
            "Prediction: Real News, Actual: Real News\n",
            "\n",
            "Input 5: WASHINGTON (Reuters) - The U.S. Senate voted on Thursday to confirm retired neurosurgeon Ben Carson ... \n",
            "Prediction: Real News, Actual: Real News\n",
            "\n",
            "Input 6: War veteran Johnny  Joey  Jones praised President Trump for dropping the  mother of all bombs  on IS... \n",
            "Prediction: Fake News, Actual: Fake News\n",
            "\n",
            "Input 7: If you watch CNBC at all you know John Harwood is a HUGE liberal political hack so why the heck is i... \n",
            "Prediction: Fake News, Actual: Fake News\n",
            "\n",
            "Input 8: Last November, the UNC campus was full of angry students who were unhappy with Trump s election On N... \n",
            "Prediction: Fake News, Actual: Fake News\n",
            "\n",
            "Input 9: I saw this live on Cavuto and it s just so great! Ted Turner jr. is stumping for Ben Carson. You ll ... \n",
            "Prediction: Fake News, Actual: Fake News\n",
            "\n",
            "Input 10: It s a shame Megyn Kelly believed she had launch an attack at then candidate Trump during his first ... \n",
            "Prediction: Fake News, Actual: Fake News\n",
            "\n",
            "Accuracy: 1.0\n"
          ]
        }
      ]
    }
  ]
}